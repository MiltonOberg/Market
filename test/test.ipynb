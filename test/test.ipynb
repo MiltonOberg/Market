{
 "cells": [
  {
   "cell_type": "code",
   "execution_count": 4,
   "metadata": {},
   "outputs": [
    {
     "ename": "ModuleNotFoundError",
     "evalue": "No module named 'backend'",
     "output_type": "error",
     "traceback": [
      "\u001b[1;31m---------------------------------------------------------------------------\u001b[0m",
      "\u001b[1;31mModuleNotFoundError\u001b[0m                       Traceback (most recent call last)",
      "Cell \u001b[1;32mIn[4], line 1\u001b[0m\n\u001b[1;32m----> 1\u001b[0m \u001b[38;5;28;01mfrom\u001b[39;00m\u001b[38;5;250m \u001b[39m\u001b[38;5;21;01mbackend\u001b[39;00m\u001b[38;5;21;01m.\u001b[39;00m\u001b[38;5;21;01mfeatures\u001b[39;00m\u001b[38;5;21;01m.\u001b[39;00m\u001b[38;5;21;01mstonks\u001b[39;00m\u001b[38;5;250m \u001b[39m\u001b[38;5;28;01mimport\u001b[39;00m Stonk\n",
      "\u001b[1;31mModuleNotFoundError\u001b[0m: No module named 'backend'"
     ]
    }
   ],
   "source": [
    "from backend.features.stonks import Stonk"
   ]
  },
  {
   "cell_type": "markdown",
   "metadata": {},
   "source": [
    "## Räkna ut med PE och vinst för att se bolagets värdering enligt vinst nivåer\n",
    "### är siffran lägre än börsvärde så värderar marknaden bolagget högre än vad de är"
   ]
  },
  {
   "cell_type": "code",
   "execution_count": null,
   "metadata": {},
   "outputs": [
    {
     "name": "stdout",
     "output_type": "stream",
     "text": [
      "\n",
      "    Volvo B värderat på vinster: 558\n",
      "    Börsvärde: 584.49\n",
      "    Visas i miljarder\n",
      "    \n"
     ]
    }
   ],
   "source": [
    "volvo = Stonk(\"Volvo B\", \"584 490,7 MSEK\", 49932, 11.18)\n",
    "\n",
    "print(\n",
    "    volvo.profit_market_eval\n",
    ")"
   ]
  },
  {
   "cell_type": "code",
   "execution_count": null,
   "metadata": {},
   "outputs": [
    {
     "name": "stdout",
     "output_type": "stream",
     "text": [
      "\n",
      "    SAAB B värderat på vinster: 113\n",
      "    Börsvärde: 134.487\n",
      "    Visas i miljarder\n",
      "    \n"
     ]
    }
   ],
   "source": [
    "saab = Stonk(\"SAAB B\", \"134 487,4 MSEK\", 3443, 33.04)\n",
    "\n",
    "print(\n",
    "    saab.profit_market_eval\n",
    ")"
   ]
  },
  {
   "cell_type": "code",
   "execution_count": null,
   "metadata": {},
   "outputs": [
    {
     "name": "stdout",
     "output_type": "stream",
     "text": [
      "\n",
      "    Rheinmetall AG värderat på vinster: 26\n",
      "    Börsvärde: 28.67\n",
      "    Visas i miljarder\n",
      "    \n"
     ]
    }
   ],
   "source": [
    "rhein = Stonk(\"Rheinmetall AG\", \"28 670,4 MEUR\", 535, 49.96)\n",
    "\n",
    "print(\n",
    "    rhein.profit_market_eval\n",
    ")"
   ]
  },
  {
   "cell_type": "code",
   "execution_count": null,
   "metadata": {},
   "outputs": [
    {
     "name": "stdout",
     "output_type": "stream",
     "text": [
      "\n",
      "    W5 Solutions värderat på vinster: 0\n",
      "    Börsvärde: 0.695\n",
      "    Visas i miljarder\n",
      "    \n"
     ]
    }
   ],
   "source": [
    "w5= Stonk(\"W5 Solutions\", \"695,9 MSEK\", -1, -14.1)\n",
    "\n",
    "print(\n",
    "    w5.profit_market_eval\n",
    ")"
   ]
  },
  {
   "cell_type": "code",
   "execution_count": null,
   "metadata": {},
   "outputs": [
    {
     "name": "stdout",
     "output_type": "stream",
     "text": [
      "\n",
      "    Tesla värderat på vinster: 1 395\n",
      "    Börsvärde: 1249.419\n",
      "    Visas i miljarder\n",
      "    \n"
     ]
    }
   ],
   "source": [
    "tesla = Stonk(\"Tesla\", \"1 249 419,4 MUSD\", 14997, 93.03)\n",
    "print(\n",
    "    tesla.profit_market_eval\n",
    ")"
   ]
  },
  {
   "cell_type": "code",
   "execution_count": null,
   "metadata": {},
   "outputs": [],
   "source": []
  }
 ],
 "metadata": {
  "kernelspec": {
   "display_name": ".venv",
   "language": "python",
   "name": "python3"
  },
  "language_info": {
   "codemirror_mode": {
    "name": "ipython",
    "version": 3
   },
   "file_extension": ".py",
   "mimetype": "text/x-python",
   "name": "python",
   "nbconvert_exporter": "python",
   "pygments_lexer": "ipython3",
   "version": "3.11.9"
  }
 },
 "nbformat": 4,
 "nbformat_minor": 2
}
