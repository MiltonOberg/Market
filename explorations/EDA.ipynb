{
 "cells": [
  {
   "cell_type": "code",
   "execution_count": 1,
   "metadata": {},
   "outputs": [],
   "source": [
    "from backend.components.stonk import Stonk"
   ]
  },
  {
   "cell_type": "code",
   "execution_count": 2,
   "metadata": {},
   "outputs": [],
   "source": [
    "connection = Stonk(stonk = \"saab\")"
   ]
  },
  {
   "cell_type": "code",
   "execution_count": 3,
   "metadata": {},
   "outputs": [
    {
     "data": {
      "text/html": [
       "<div>\n",
       "<style scoped>\n",
       "    .dataframe tbody tr th:only-of-type {\n",
       "        vertical-align: middle;\n",
       "    }\n",
       "\n",
       "    .dataframe tbody tr th {\n",
       "        vertical-align: top;\n",
       "    }\n",
       "\n",
       "    .dataframe thead th {\n",
       "        text-align: right;\n",
       "    }\n",
       "</style>\n",
       "<table border=\"1\" class=\"dataframe\">\n",
       "  <thead>\n",
       "    <tr style=\"text-align: right;\">\n",
       "      <th></th>\n",
       "      <th>Open</th>\n",
       "      <th>High</th>\n",
       "      <th>Low</th>\n",
       "      <th>Close</th>\n",
       "      <th>Volume</th>\n",
       "      <th>Dividends</th>\n",
       "      <th>Stock Splits</th>\n",
       "    </tr>\n",
       "    <tr>\n",
       "      <th>Date</th>\n",
       "      <th></th>\n",
       "      <th></th>\n",
       "      <th></th>\n",
       "      <th></th>\n",
       "      <th></th>\n",
       "      <th></th>\n",
       "      <th></th>\n",
       "    </tr>\n",
       "  </thead>\n",
       "  <tbody>\n",
       "    <tr>\n",
       "      <th>2025-06-04 00:00:00-04:00</th>\n",
       "      <td>25.490000</td>\n",
       "      <td>25.570000</td>\n",
       "      <td>25.000000</td>\n",
       "      <td>25.400000</td>\n",
       "      <td>204300</td>\n",
       "      <td>0.0</td>\n",
       "      <td>0.0</td>\n",
       "    </tr>\n",
       "    <tr>\n",
       "      <th>2025-06-03 00:00:00-04:00</th>\n",
       "      <td>26.150000</td>\n",
       "      <td>26.150000</td>\n",
       "      <td>25.730000</td>\n",
       "      <td>25.920000</td>\n",
       "      <td>166700</td>\n",
       "      <td>0.0</td>\n",
       "      <td>0.0</td>\n",
       "    </tr>\n",
       "    <tr>\n",
       "      <th>2025-06-02 00:00:00-04:00</th>\n",
       "      <td>25.469999</td>\n",
       "      <td>25.760000</td>\n",
       "      <td>25.209999</td>\n",
       "      <td>25.680000</td>\n",
       "      <td>263600</td>\n",
       "      <td>0.0</td>\n",
       "      <td>0.0</td>\n",
       "    </tr>\n",
       "    <tr>\n",
       "      <th>2025-05-30 00:00:00-04:00</th>\n",
       "      <td>25.469999</td>\n",
       "      <td>25.469999</td>\n",
       "      <td>25.120001</td>\n",
       "      <td>25.270000</td>\n",
       "      <td>431500</td>\n",
       "      <td>0.0</td>\n",
       "      <td>0.0</td>\n",
       "    </tr>\n",
       "    <tr>\n",
       "      <th>2025-05-29 00:00:00-04:00</th>\n",
       "      <td>25.870001</td>\n",
       "      <td>25.900000</td>\n",
       "      <td>25.049999</td>\n",
       "      <td>25.590000</td>\n",
       "      <td>122900</td>\n",
       "      <td>0.0</td>\n",
       "      <td>0.0</td>\n",
       "    </tr>\n",
       "    <tr>\n",
       "      <th>...</th>\n",
       "      <td>...</td>\n",
       "      <td>...</td>\n",
       "      <td>...</td>\n",
       "      <td>...</td>\n",
       "      <td>...</td>\n",
       "      <td>...</td>\n",
       "      <td>...</td>\n",
       "    </tr>\n",
       "    <tr>\n",
       "      <th>2024-08-21 00:00:00-04:00</th>\n",
       "      <td>11.498785</td>\n",
       "      <td>11.578499</td>\n",
       "      <td>11.419071</td>\n",
       "      <td>11.548607</td>\n",
       "      <td>12500</td>\n",
       "      <td>0.0</td>\n",
       "      <td>0.0</td>\n",
       "    </tr>\n",
       "    <tr>\n",
       "      <th>2024-08-20 00:00:00-04:00</th>\n",
       "      <td>11.728960</td>\n",
       "      <td>11.767821</td>\n",
       "      <td>11.608392</td>\n",
       "      <td>11.747892</td>\n",
       "      <td>24700</td>\n",
       "      <td>0.0</td>\n",
       "      <td>0.0</td>\n",
       "    </tr>\n",
       "    <tr>\n",
       "      <th>2024-08-19 00:00:00-04:00</th>\n",
       "      <td>11.718000</td>\n",
       "      <td>11.847536</td>\n",
       "      <td>11.608392</td>\n",
       "      <td>11.837571</td>\n",
       "      <td>41800</td>\n",
       "      <td>0.0</td>\n",
       "      <td>0.0</td>\n",
       "    </tr>\n",
       "    <tr>\n",
       "      <th>2024-08-16 00:00:00-04:00</th>\n",
       "      <td>12.246107</td>\n",
       "      <td>12.266036</td>\n",
       "      <td>12.116571</td>\n",
       "      <td>12.166392</td>\n",
       "      <td>65500</td>\n",
       "      <td>0.0</td>\n",
       "      <td>0.0</td>\n",
       "    </tr>\n",
       "    <tr>\n",
       "      <th>2024-08-15 00:00:00-04:00</th>\n",
       "      <td>12.166392</td>\n",
       "      <td>12.166392</td>\n",
       "      <td>12.076714</td>\n",
       "      <td>12.076714</td>\n",
       "      <td>99300</td>\n",
       "      <td>0.0</td>\n",
       "      <td>0.0</td>\n",
       "    </tr>\n",
       "  </tbody>\n",
       "</table>\n",
       "<p>201 rows × 7 columns</p>\n",
       "</div>"
      ],
      "text/plain": [
       "                                Open       High        Low      Close  Volume  \\\n",
       "Date                                                                            \n",
       "2025-06-04 00:00:00-04:00  25.490000  25.570000  25.000000  25.400000  204300   \n",
       "2025-06-03 00:00:00-04:00  26.150000  26.150000  25.730000  25.920000  166700   \n",
       "2025-06-02 00:00:00-04:00  25.469999  25.760000  25.209999  25.680000  263600   \n",
       "2025-05-30 00:00:00-04:00  25.469999  25.469999  25.120001  25.270000  431500   \n",
       "2025-05-29 00:00:00-04:00  25.870001  25.900000  25.049999  25.590000  122900   \n",
       "...                              ...        ...        ...        ...     ...   \n",
       "2024-08-21 00:00:00-04:00  11.498785  11.578499  11.419071  11.548607   12500   \n",
       "2024-08-20 00:00:00-04:00  11.728960  11.767821  11.608392  11.747892   24700   \n",
       "2024-08-19 00:00:00-04:00  11.718000  11.847536  11.608392  11.837571   41800   \n",
       "2024-08-16 00:00:00-04:00  12.246107  12.266036  12.116571  12.166392   65500   \n",
       "2024-08-15 00:00:00-04:00  12.166392  12.166392  12.076714  12.076714   99300   \n",
       "\n",
       "                           Dividends  Stock Splits  \n",
       "Date                                                \n",
       "2025-06-04 00:00:00-04:00        0.0           0.0  \n",
       "2025-06-03 00:00:00-04:00        0.0           0.0  \n",
       "2025-06-02 00:00:00-04:00        0.0           0.0  \n",
       "2025-05-30 00:00:00-04:00        0.0           0.0  \n",
       "2025-05-29 00:00:00-04:00        0.0           0.0  \n",
       "...                              ...           ...  \n",
       "2024-08-21 00:00:00-04:00        0.0           0.0  \n",
       "2024-08-20 00:00:00-04:00        0.0           0.0  \n",
       "2024-08-19 00:00:00-04:00        0.0           0.0  \n",
       "2024-08-16 00:00:00-04:00        0.0           0.0  \n",
       "2024-08-15 00:00:00-04:00        0.0           0.0  \n",
       "\n",
       "[201 rows x 7 columns]"
      ]
     },
     "execution_count": 3,
     "metadata": {},
     "output_type": "execute_result"
    }
   ],
   "source": [
    "connection.df"
   ]
  },
  {
   "cell_type": "code",
   "execution_count": 5,
   "metadata": {},
   "outputs": [
    {
     "data": {
      "application/vnd.plotly.v1+json": {
       "config": {
        "plotlyServerURL": "https://plot.ly"
       },
       "data": [
        {
         "hovertemplate": "Date=%{x}<br>Close=%{y}<extra></extra>",
         "legendgroup": "",
         "line": {
          "color": "#636efa",
          "dash": "solid"
         },
         "marker": {
          "symbol": "circle"
         },
         "mode": "lines",
         "name": "",
         "orientation": "v",
         "showlegend": false,
         "type": "scatter",
         "x": [
          "2024-12-31T00:00:00-05:00",
          "2024-12-30T00:00:00-05:00",
          "2024-12-27T00:00:00-05:00",
          "2024-12-26T00:00:00-05:00",
          "2024-12-24T00:00:00-05:00",
          "2024-12-23T00:00:00-05:00",
          "2024-12-20T00:00:00-05:00",
          "2024-12-19T00:00:00-05:00",
          "2024-12-18T00:00:00-05:00",
          "2024-12-17T00:00:00-05:00",
          "2024-12-16T00:00:00-05:00",
          "2024-12-13T00:00:00-05:00",
          "2024-12-12T00:00:00-05:00",
          "2024-12-11T00:00:00-05:00",
          "2024-12-10T00:00:00-05:00",
          "2024-12-09T00:00:00-05:00",
          "2024-12-06T00:00:00-05:00",
          "2024-12-05T00:00:00-05:00",
          "2024-12-04T00:00:00-05:00",
          "2024-12-03T00:00:00-05:00",
          "2024-12-02T00:00:00-05:00",
          "2024-11-29T00:00:00-05:00",
          "2024-11-27T00:00:00-05:00",
          "2024-11-26T00:00:00-05:00",
          "2024-11-25T00:00:00-05:00",
          "2024-11-22T00:00:00-05:00",
          "2024-11-21T00:00:00-05:00",
          "2024-11-20T00:00:00-05:00",
          "2024-11-19T00:00:00-05:00",
          "2024-11-18T00:00:00-05:00",
          "2024-11-15T00:00:00-05:00",
          "2024-11-14T00:00:00-05:00",
          "2024-11-13T00:00:00-05:00",
          "2024-11-12T00:00:00-05:00",
          "2024-11-11T00:00:00-05:00",
          "2024-11-08T00:00:00-05:00",
          "2024-11-07T00:00:00-05:00",
          "2024-11-06T00:00:00-05:00",
          "2024-11-05T00:00:00-05:00",
          "2024-11-04T00:00:00-05:00",
          "2024-11-01T00:00:00-04:00",
          "2024-10-31T00:00:00-04:00",
          "2024-10-30T00:00:00-04:00",
          "2024-10-29T00:00:00-04:00",
          "2024-10-28T00:00:00-04:00",
          "2024-10-25T00:00:00-04:00",
          "2024-10-24T00:00:00-04:00",
          "2024-10-23T00:00:00-04:00",
          "2024-10-22T00:00:00-04:00",
          "2024-10-21T00:00:00-04:00",
          "2024-10-18T00:00:00-04:00",
          "2024-10-17T00:00:00-04:00",
          "2024-10-16T00:00:00-04:00",
          "2024-10-15T00:00:00-04:00",
          "2024-10-14T00:00:00-04:00",
          "2024-10-11T00:00:00-04:00",
          "2024-10-10T00:00:00-04:00",
          "2024-10-09T00:00:00-04:00",
          "2024-10-08T00:00:00-04:00",
          "2024-10-07T00:00:00-04:00",
          "2024-10-04T00:00:00-04:00",
          "2024-10-03T00:00:00-04:00",
          "2024-10-02T00:00:00-04:00",
          "2024-10-01T00:00:00-04:00",
          "2024-09-30T00:00:00-04:00",
          "2024-09-27T00:00:00-04:00",
          "2024-09-26T00:00:00-04:00",
          "2024-09-25T00:00:00-04:00",
          "2024-09-24T00:00:00-04:00",
          "2024-09-23T00:00:00-04:00",
          "2024-09-20T00:00:00-04:00",
          "2024-09-19T00:00:00-04:00",
          "2024-09-18T00:00:00-04:00",
          "2024-09-17T00:00:00-04:00",
          "2024-09-16T00:00:00-04:00",
          "2024-09-13T00:00:00-04:00",
          "2024-09-12T00:00:00-04:00",
          "2024-09-11T00:00:00-04:00",
          "2024-09-10T00:00:00-04:00",
          "2024-09-09T00:00:00-04:00",
          "2024-09-06T00:00:00-04:00",
          "2024-09-05T00:00:00-04:00",
          "2024-09-04T00:00:00-04:00",
          "2024-09-03T00:00:00-04:00",
          "2024-08-30T00:00:00-04:00",
          "2024-08-29T00:00:00-04:00",
          "2024-08-28T00:00:00-04:00",
          "2024-08-27T00:00:00-04:00",
          "2024-08-26T00:00:00-04:00",
          "2024-08-23T00:00:00-04:00",
          "2024-08-22T00:00:00-04:00",
          "2024-08-21T00:00:00-04:00",
          "2024-08-20T00:00:00-04:00",
          "2024-08-19T00:00:00-04:00",
          "2024-08-16T00:00:00-04:00",
          "2024-08-15T00:00:00-04:00"
         ],
         "xaxis": "x",
         "y": {
          "bdata": "AAAAgML1JEAAAADgehQlQAAAAKBwPSVAAAAAQLRIJUAAAABgj0IlQAAAAIAULiVAAAAAgMJ1JEAAAACgcD0kQAAAAEDh+iNAAAAAoMZLJEAAAABgj0IlQAAAACCF6yRAAAAAgD0KJUAAAAAA1yMlQAAAAIAUriRAAAAAgD0KJUAAAABAClcmQAAAAGCPwiZAAAAAwPVoJkAAAADAzEwmQAAAAAAp3CVAAAAAgD2KJUAAAABgj8IlQAAAAKBwvSVAAAAAoEdhJUAAAADgehQmQAAAAKBHYSZAAAAA4HoUJkAAAACAPYomQAAAACCF6yVAAAAAoEdhJUAAAABA4XolQAAAAOB6FCZAAAAAgOtRJkAAAABAMzMmQAAAAEDheiVAAAAAILDyJUAAAABguJ4kQAAAAGC4HiVAAAAAwMxMJEAAAABguJ4kQAAAAKCZmSRAAAAAQDOzJUAAAADgUbglQAAAAMDMzCVAAAAAgOuRJUAAAABgj0ImQAAAAGCPQiZAAAAAoJmZJkAAAADgUbgkQAAAAKBwvSRAAAAAgOvRJEAAAACAPYokQAAAAEAKVyRAAAAA4FE4JEAAAADAzEwkQAAAAKBwPSRAAAAA4HqUJUAAAADA9aglQAAAAGASwyVAAAAAoMjmJUAAAADA/PAlQAAAAACzFCZAAAAAwPzwJUAAAAAAaQslQAAAAEAfLyVAAAAAwFdsJUAAAACgCV0lQAAAAGCutCRAAAAAIKaoJkAAAACgH1wmQAAAAMBIfSZAAAAAIFyfJUAAAABg+L0lQAAAAED0tyZAAAAAYFzMJkAAAABgnUImQAAAACBcnyVAAAAAILWXJUAAAAAAKJUlQAAAAIDVUiVAAAAAQN64JUAAAADA4uslQAAAAKDI5iVAAAAAwJ1vJ0AAAADgOY4nQAAAAIA1WydAAAAAIDEoJ0AAAACAxOAmQAAAAADjGCdAAAAAYFzMJkAAAAAA4xgnQAAAAMDrfidAAAAAINasJ0AAAABgMVUoQAAAAABHJyhA",
          "dtype": "f8"
         },
         "yaxis": "y"
        }
       ],
       "layout": {
        "legend": {
         "tracegroupgap": 0
        },
        "template": {
         "data": {
          "bar": [
           {
            "error_x": {
             "color": "#2a3f5f"
            },
            "error_y": {
             "color": "#2a3f5f"
            },
            "marker": {
             "line": {
              "color": "#E5ECF6",
              "width": 0.5
             },
             "pattern": {
              "fillmode": "overlay",
              "size": 10,
              "solidity": 0.2
             }
            },
            "type": "bar"
           }
          ],
          "barpolar": [
           {
            "marker": {
             "line": {
              "color": "#E5ECF6",
              "width": 0.5
             },
             "pattern": {
              "fillmode": "overlay",
              "size": 10,
              "solidity": 0.2
             }
            },
            "type": "barpolar"
           }
          ],
          "carpet": [
           {
            "aaxis": {
             "endlinecolor": "#2a3f5f",
             "gridcolor": "white",
             "linecolor": "white",
             "minorgridcolor": "white",
             "startlinecolor": "#2a3f5f"
            },
            "baxis": {
             "endlinecolor": "#2a3f5f",
             "gridcolor": "white",
             "linecolor": "white",
             "minorgridcolor": "white",
             "startlinecolor": "#2a3f5f"
            },
            "type": "carpet"
           }
          ],
          "choropleth": [
           {
            "colorbar": {
             "outlinewidth": 0,
             "ticks": ""
            },
            "type": "choropleth"
           }
          ],
          "contour": [
           {
            "colorbar": {
             "outlinewidth": 0,
             "ticks": ""
            },
            "colorscale": [
             [
              0,
              "#0d0887"
             ],
             [
              0.1111111111111111,
              "#46039f"
             ],
             [
              0.2222222222222222,
              "#7201a8"
             ],
             [
              0.3333333333333333,
              "#9c179e"
             ],
             [
              0.4444444444444444,
              "#bd3786"
             ],
             [
              0.5555555555555556,
              "#d8576b"
             ],
             [
              0.6666666666666666,
              "#ed7953"
             ],
             [
              0.7777777777777778,
              "#fb9f3a"
             ],
             [
              0.8888888888888888,
              "#fdca26"
             ],
             [
              1,
              "#f0f921"
             ]
            ],
            "type": "contour"
           }
          ],
          "contourcarpet": [
           {
            "colorbar": {
             "outlinewidth": 0,
             "ticks": ""
            },
            "type": "contourcarpet"
           }
          ],
          "heatmap": [
           {
            "colorbar": {
             "outlinewidth": 0,
             "ticks": ""
            },
            "colorscale": [
             [
              0,
              "#0d0887"
             ],
             [
              0.1111111111111111,
              "#46039f"
             ],
             [
              0.2222222222222222,
              "#7201a8"
             ],
             [
              0.3333333333333333,
              "#9c179e"
             ],
             [
              0.4444444444444444,
              "#bd3786"
             ],
             [
              0.5555555555555556,
              "#d8576b"
             ],
             [
              0.6666666666666666,
              "#ed7953"
             ],
             [
              0.7777777777777778,
              "#fb9f3a"
             ],
             [
              0.8888888888888888,
              "#fdca26"
             ],
             [
              1,
              "#f0f921"
             ]
            ],
            "type": "heatmap"
           }
          ],
          "histogram": [
           {
            "marker": {
             "pattern": {
              "fillmode": "overlay",
              "size": 10,
              "solidity": 0.2
             }
            },
            "type": "histogram"
           }
          ],
          "histogram2d": [
           {
            "colorbar": {
             "outlinewidth": 0,
             "ticks": ""
            },
            "colorscale": [
             [
              0,
              "#0d0887"
             ],
             [
              0.1111111111111111,
              "#46039f"
             ],
             [
              0.2222222222222222,
              "#7201a8"
             ],
             [
              0.3333333333333333,
              "#9c179e"
             ],
             [
              0.4444444444444444,
              "#bd3786"
             ],
             [
              0.5555555555555556,
              "#d8576b"
             ],
             [
              0.6666666666666666,
              "#ed7953"
             ],
             [
              0.7777777777777778,
              "#fb9f3a"
             ],
             [
              0.8888888888888888,
              "#fdca26"
             ],
             [
              1,
              "#f0f921"
             ]
            ],
            "type": "histogram2d"
           }
          ],
          "histogram2dcontour": [
           {
            "colorbar": {
             "outlinewidth": 0,
             "ticks": ""
            },
            "colorscale": [
             [
              0,
              "#0d0887"
             ],
             [
              0.1111111111111111,
              "#46039f"
             ],
             [
              0.2222222222222222,
              "#7201a8"
             ],
             [
              0.3333333333333333,
              "#9c179e"
             ],
             [
              0.4444444444444444,
              "#bd3786"
             ],
             [
              0.5555555555555556,
              "#d8576b"
             ],
             [
              0.6666666666666666,
              "#ed7953"
             ],
             [
              0.7777777777777778,
              "#fb9f3a"
             ],
             [
              0.8888888888888888,
              "#fdca26"
             ],
             [
              1,
              "#f0f921"
             ]
            ],
            "type": "histogram2dcontour"
           }
          ],
          "mesh3d": [
           {
            "colorbar": {
             "outlinewidth": 0,
             "ticks": ""
            },
            "type": "mesh3d"
           }
          ],
          "parcoords": [
           {
            "line": {
             "colorbar": {
              "outlinewidth": 0,
              "ticks": ""
             }
            },
            "type": "parcoords"
           }
          ],
          "pie": [
           {
            "automargin": true,
            "type": "pie"
           }
          ],
          "scatter": [
           {
            "fillpattern": {
             "fillmode": "overlay",
             "size": 10,
             "solidity": 0.2
            },
            "type": "scatter"
           }
          ],
          "scatter3d": [
           {
            "line": {
             "colorbar": {
              "outlinewidth": 0,
              "ticks": ""
             }
            },
            "marker": {
             "colorbar": {
              "outlinewidth": 0,
              "ticks": ""
             }
            },
            "type": "scatter3d"
           }
          ],
          "scattercarpet": [
           {
            "marker": {
             "colorbar": {
              "outlinewidth": 0,
              "ticks": ""
             }
            },
            "type": "scattercarpet"
           }
          ],
          "scattergeo": [
           {
            "marker": {
             "colorbar": {
              "outlinewidth": 0,
              "ticks": ""
             }
            },
            "type": "scattergeo"
           }
          ],
          "scattergl": [
           {
            "marker": {
             "colorbar": {
              "outlinewidth": 0,
              "ticks": ""
             }
            },
            "type": "scattergl"
           }
          ],
          "scattermap": [
           {
            "marker": {
             "colorbar": {
              "outlinewidth": 0,
              "ticks": ""
             }
            },
            "type": "scattermap"
           }
          ],
          "scattermapbox": [
           {
            "marker": {
             "colorbar": {
              "outlinewidth": 0,
              "ticks": ""
             }
            },
            "type": "scattermapbox"
           }
          ],
          "scatterpolar": [
           {
            "marker": {
             "colorbar": {
              "outlinewidth": 0,
              "ticks": ""
             }
            },
            "type": "scatterpolar"
           }
          ],
          "scatterpolargl": [
           {
            "marker": {
             "colorbar": {
              "outlinewidth": 0,
              "ticks": ""
             }
            },
            "type": "scatterpolargl"
           }
          ],
          "scatterternary": [
           {
            "marker": {
             "colorbar": {
              "outlinewidth": 0,
              "ticks": ""
             }
            },
            "type": "scatterternary"
           }
          ],
          "surface": [
           {
            "colorbar": {
             "outlinewidth": 0,
             "ticks": ""
            },
            "colorscale": [
             [
              0,
              "#0d0887"
             ],
             [
              0.1111111111111111,
              "#46039f"
             ],
             [
              0.2222222222222222,
              "#7201a8"
             ],
             [
              0.3333333333333333,
              "#9c179e"
             ],
             [
              0.4444444444444444,
              "#bd3786"
             ],
             [
              0.5555555555555556,
              "#d8576b"
             ],
             [
              0.6666666666666666,
              "#ed7953"
             ],
             [
              0.7777777777777778,
              "#fb9f3a"
             ],
             [
              0.8888888888888888,
              "#fdca26"
             ],
             [
              1,
              "#f0f921"
             ]
            ],
            "type": "surface"
           }
          ],
          "table": [
           {
            "cells": {
             "fill": {
              "color": "#EBF0F8"
             },
             "line": {
              "color": "white"
             }
            },
            "header": {
             "fill": {
              "color": "#C8D4E3"
             },
             "line": {
              "color": "white"
             }
            },
            "type": "table"
           }
          ]
         },
         "layout": {
          "annotationdefaults": {
           "arrowcolor": "#2a3f5f",
           "arrowhead": 0,
           "arrowwidth": 1
          },
          "autotypenumbers": "strict",
          "coloraxis": {
           "colorbar": {
            "outlinewidth": 0,
            "ticks": ""
           }
          },
          "colorscale": {
           "diverging": [
            [
             0,
             "#8e0152"
            ],
            [
             0.1,
             "#c51b7d"
            ],
            [
             0.2,
             "#de77ae"
            ],
            [
             0.3,
             "#f1b6da"
            ],
            [
             0.4,
             "#fde0ef"
            ],
            [
             0.5,
             "#f7f7f7"
            ],
            [
             0.6,
             "#e6f5d0"
            ],
            [
             0.7,
             "#b8e186"
            ],
            [
             0.8,
             "#7fbc41"
            ],
            [
             0.9,
             "#4d9221"
            ],
            [
             1,
             "#276419"
            ]
           ],
           "sequential": [
            [
             0,
             "#0d0887"
            ],
            [
             0.1111111111111111,
             "#46039f"
            ],
            [
             0.2222222222222222,
             "#7201a8"
            ],
            [
             0.3333333333333333,
             "#9c179e"
            ],
            [
             0.4444444444444444,
             "#bd3786"
            ],
            [
             0.5555555555555556,
             "#d8576b"
            ],
            [
             0.6666666666666666,
             "#ed7953"
            ],
            [
             0.7777777777777778,
             "#fb9f3a"
            ],
            [
             0.8888888888888888,
             "#fdca26"
            ],
            [
             1,
             "#f0f921"
            ]
           ],
           "sequentialminus": [
            [
             0,
             "#0d0887"
            ],
            [
             0.1111111111111111,
             "#46039f"
            ],
            [
             0.2222222222222222,
             "#7201a8"
            ],
            [
             0.3333333333333333,
             "#9c179e"
            ],
            [
             0.4444444444444444,
             "#bd3786"
            ],
            [
             0.5555555555555556,
             "#d8576b"
            ],
            [
             0.6666666666666666,
             "#ed7953"
            ],
            [
             0.7777777777777778,
             "#fb9f3a"
            ],
            [
             0.8888888888888888,
             "#fdca26"
            ],
            [
             1,
             "#f0f921"
            ]
           ]
          },
          "colorway": [
           "#636efa",
           "#EF553B",
           "#00cc96",
           "#ab63fa",
           "#FFA15A",
           "#19d3f3",
           "#FF6692",
           "#B6E880",
           "#FF97FF",
           "#FECB52"
          ],
          "font": {
           "color": "#2a3f5f"
          },
          "geo": {
           "bgcolor": "white",
           "lakecolor": "white",
           "landcolor": "#E5ECF6",
           "showlakes": true,
           "showland": true,
           "subunitcolor": "white"
          },
          "hoverlabel": {
           "align": "left"
          },
          "hovermode": "closest",
          "mapbox": {
           "style": "light"
          },
          "paper_bgcolor": "white",
          "plot_bgcolor": "#E5ECF6",
          "polar": {
           "angularaxis": {
            "gridcolor": "white",
            "linecolor": "white",
            "ticks": ""
           },
           "bgcolor": "#E5ECF6",
           "radialaxis": {
            "gridcolor": "white",
            "linecolor": "white",
            "ticks": ""
           }
          },
          "scene": {
           "xaxis": {
            "backgroundcolor": "#E5ECF6",
            "gridcolor": "white",
            "gridwidth": 2,
            "linecolor": "white",
            "showbackground": true,
            "ticks": "",
            "zerolinecolor": "white"
           },
           "yaxis": {
            "backgroundcolor": "#E5ECF6",
            "gridcolor": "white",
            "gridwidth": 2,
            "linecolor": "white",
            "showbackground": true,
            "ticks": "",
            "zerolinecolor": "white"
           },
           "zaxis": {
            "backgroundcolor": "#E5ECF6",
            "gridcolor": "white",
            "gridwidth": 2,
            "linecolor": "white",
            "showbackground": true,
            "ticks": "",
            "zerolinecolor": "white"
           }
          },
          "shapedefaults": {
           "line": {
            "color": "#2a3f5f"
           }
          },
          "ternary": {
           "aaxis": {
            "gridcolor": "white",
            "linecolor": "white",
            "ticks": ""
           },
           "baxis": {
            "gridcolor": "white",
            "linecolor": "white",
            "ticks": ""
           },
           "bgcolor": "#E5ECF6",
           "caxis": {
            "gridcolor": "white",
            "linecolor": "white",
            "ticks": ""
           }
          },
          "title": {
           "x": 0.05
          },
          "xaxis": {
           "automargin": true,
           "gridcolor": "white",
           "linecolor": "white",
           "ticks": "",
           "title": {
            "standoff": 15
           },
           "zerolinecolor": "white",
           "zerolinewidth": 2
          },
          "yaxis": {
           "automargin": true,
           "gridcolor": "white",
           "linecolor": "white",
           "ticks": "",
           "title": {
            "standoff": 15
           },
           "zerolinecolor": "white",
           "zerolinewidth": 2
          }
         }
        },
        "title": {
         "text": "Stonk Closing Prices"
        },
        "xaxis": {
         "anchor": "y",
         "domain": [
          0,
          1
         ],
         "title": {
          "text": "Date"
         }
        },
        "yaxis": {
         "anchor": "x",
         "domain": [
          0,
          1
         ],
         "title": {
          "text": "Close"
         }
        }
       }
      }
     },
     "metadata": {},
     "output_type": "display_data"
    }
   ],
   "source": [
    "from backend.components.stonk_graph import StonkGraph\n",
    "\n",
    "stonk_graph = StonkGraph(stonk = \"saab\")\n",
    "stonk_graph.date_close(year = 2024)"
   ]
  },
  {
   "cell_type": "code",
   "execution_count": null,
   "metadata": {},
   "outputs": [],
   "source": []
  }
 ],
 "metadata": {
  "kernelspec": {
   "display_name": ".venv",
   "language": "python",
   "name": "python3"
  },
  "language_info": {
   "codemirror_mode": {
    "name": "ipython",
    "version": 3
   },
   "file_extension": ".py",
   "mimetype": "text/x-python",
   "name": "python",
   "nbconvert_exporter": "python",
   "pygments_lexer": "ipython3",
   "version": "3.12.6"
  }
 },
 "nbformat": 4,
 "nbformat_minor": 2
}
